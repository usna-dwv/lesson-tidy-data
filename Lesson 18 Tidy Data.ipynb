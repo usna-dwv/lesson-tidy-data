{
 "cells": [
  {
   "cell_type": "markdown",
   "metadata": {},
   "source": [
    "**SA433 &#x25aa; Data Wrangling and Visualization &#x25aa; Fall 2024**"
   ]
  },
  {
   "cell_type": "markdown",
   "metadata": {},
   "source": [
    "# Lesson 18. Tidy Data"
   ]
  },
  {
   "cell_type": "markdown",
   "metadata": {},
   "source": [
    "## In this lesson..."
   ]
  },
  {
   "cell_type": "markdown",
   "metadata": {},
   "source": [
    "- We'll learn about **tidy data**: a way to consistently organize tabular data"
   ]
  },
  {
   "cell_type": "markdown",
   "metadata": {},
   "source": [
    "- We'll also learn some techniques on how to make data tidy\n",
    "    - These techniques are useful in general, too"
   ]
  },
  {
   "cell_type": "markdown",
   "metadata": {},
   "source": [
    "- The concept of tidy data was originally proposed by [Hadley Wickham](http://hadley.nz/), Chief Scientist at RStudio"
   ]
  },
  {
   "cell_type": "markdown",
   "metadata": {},
   "source": [
    "- Many statistical and visualization packages in Python (and R) are designed to work with tidy data, like Altair!"
   ]
  },
  {
   "cell_type": "markdown",
   "metadata": {},
   "source": [
    "<hr style=\"border-top: 2px solid gray; margin-top: 1px; margin-bottom: 1px\"></hr>"
   ]
  },
  {
   "cell_type": "markdown",
   "metadata": {},
   "source": [
    "## A few example datasets "
   ]
  },
  {
   "cell_type": "markdown",
   "metadata": {},
   "source": [
    "* Let's start by importing Pandas and NumPy:"
   ]
  },
  {
   "cell_type": "code",
   "execution_count": null,
   "metadata": {},
   "outputs": [],
   "source": [
    "import pandas as pd\n",
    "import numpy as np"
   ]
  },
  {
   "cell_type": "markdown",
   "metadata": {},
   "source": [
    "- We'll use the following datasets in this lesson:"
   ]
  },
  {
   "cell_type": "code",
   "execution_count": null,
   "metadata": {},
   "outputs": [],
   "source": [
    "table1 = pd.read_csv('data/table1.csv')\n",
    "table2 = pd.read_csv('data/table2.csv')\n",
    "table3 = pd.read_csv('data/table3.csv')\n",
    "table4a = pd.read_csv('data/table4a.csv')\n",
    "table4b = pd.read_csv('data/table4b.csv')"
   ]
  },
  {
   "cell_type": "markdown",
   "metadata": {},
   "source": [
    "<hr style=\"border-top: 2px solid gray; margin-top: 1px; margin-bottom: 1px\"></hr>"
   ]
  },
  {
   "cell_type": "markdown",
   "metadata": {},
   "source": [
    "## What is tidy data?"
   ]
  },
  {
   "cell_type": "markdown",
   "metadata": {},
   "source": [
    "- We can represent the same underlying data in multiple ways\n",
    "\n",
    "\n",
    "- Throughout this course so far, we've used the terms *columns* and *variables* interchangeably, as well as the terms *rows* and *observations*\n",
    "\n",
    "\n",
    "- However, depending on how the data is organized and the information it contains, this may not be correct\n",
    "\n",
    "\n",
    "- Below, we have 4 representations of the same data: `table1`, `table2`, `table3` and `table4a` + `table4b`\n",
    "\n",
    "\n",
    "- In this data, we have four variables: `country`, `year`, `population`, and `cases`\n",
    "\n",
    "\n",
    "- Each observation corresponds to a `country`-`year` pair\n",
    "\n",
    "\n",
    "- Each of the 4 representations shows the same values, but organized differently:"
   ]
  },
  {
   "cell_type": "code",
   "execution_count": null,
   "metadata": {},
   "outputs": [],
   "source": [
    "table1"
   ]
  },
  {
   "cell_type": "code",
   "execution_count": null,
   "metadata": {},
   "outputs": [],
   "source": [
    "table2"
   ]
  },
  {
   "cell_type": "code",
   "execution_count": null,
   "metadata": {},
   "outputs": [],
   "source": [
    "table3"
   ]
  },
  {
   "cell_type": "code",
   "execution_count": null,
   "metadata": {},
   "outputs": [],
   "source": [
    "# Together with table4b below\n",
    "table4a"
   ]
  },
  {
   "cell_type": "code",
   "execution_count": null,
   "metadata": {},
   "outputs": [],
   "source": [
    "# Together with table4a above\n",
    "table4b"
   ]
  },
  {
   "cell_type": "markdown",
   "metadata": {},
   "source": [
    "- A dataset is **tidy** if:\n",
    "    1. Each variable has its own column\n",
    "    2. Each observation has its own row\n",
    "    3. Each value has its own cell"
   ]
  },
  {
   "cell_type": "markdown",
   "metadata": {},
   "source": [
    "**Question.** Which of the four representations of the dataset above are tidy?"
   ]
  },
  {
   "cell_type": "markdown",
   "metadata": {},
   "source": [
    "*Write your notes here. Double-click to edit.*"
   ]
  },
  {
   "cell_type": "markdown",
   "metadata": {},
   "source": [
    "- The principles of tidy data seem obvious, but most data that we encounter in the wild is *not* tidy \n",
    "\n",
    "\n",
    "- Given a dataset, we need to first figure out what the variables and observations are; then we can make it tidy\n",
    "\n",
    "\n",
    "- Next, we'll learn a few techniques that can help make a dataset tidy"
   ]
  },
  {
   "cell_type": "markdown",
   "metadata": {},
   "source": [
    "<hr style=\"border-top: 2px solid gray; margin-top: 1px; margin-bottom: 1px\"></hr>"
   ]
  },
  {
   "cell_type": "markdown",
   "metadata": {},
   "source": [
    "## Pivoting from wide to long form"
   ]
  },
  {
   "cell_type": "markdown",
   "metadata": {},
   "source": [
    "- A common problem is a dataset where some of the column names are not the names of variables, but the *values* of a variable\n",
    "\n",
    "\n",
    "- For example, let's look at `table4a` again:"
   ]
  },
  {
   "cell_type": "code",
   "execution_count": null,
   "metadata": {},
   "outputs": [],
   "source": [
    "table4a"
   ]
  },
  {
   "cell_type": "markdown",
   "metadata": {},
   "source": [
    "- In this dataset:\n",
    "    - the column names `1999` and `2000` represent values of the `year` variable\n",
    "    - the values in these columns represent values of the `cases` variable\n",
    "    - each row represents 2 observations, not 1"
   ]
  },
  {
   "cell_type": "markdown",
   "metadata": {},
   "source": [
    "- To tidy a dataset like this, we need to **pivot** the offending columns into a new pair of variables\n",
    "\n",
    "\n",
    "- We can accomplish this with the `.melt()` DataFrame method"
   ]
  },
  {
   "cell_type": "markdown",
   "metadata": {},
   "source": [
    "- We need 3 parameters:\n",
    "\n",
    "    1. `id_vars`: a list of columns to keep as-is\n",
    "        - The other columns represent data that will be moved to the column created by `var_name`\n",
    "    2. `var_name`: the name of the column to create from the data stored in the column names\n",
    "    3. `value_name`: the name of the column to create from the data stored in the column values"
   ]
  },
  {
   "cell_type": "markdown",
   "metadata": {},
   "source": [
    "- Visually:\n",
    "\n",
    "<img src='img/melt.jpg' width=700 />\n",
    "\n",
    "\n",
    "- For example, we can pivot the columns `1999` and `2000` in `table4a` into new variables called `year` and `cases`, like this:"
   ]
  },
  {
   "cell_type": "code",
   "execution_count": null,
   "metadata": {},
   "outputs": [],
   "source": []
  },
  {
   "cell_type": "markdown",
   "metadata": {},
   "source": [
    "- This is often called **pivoting from wide to long form** because it makes datasets \"longer\" by increasing the number of rows and decreasing the number of columns"
   ]
  },
  {
   "cell_type": "markdown",
   "metadata": {},
   "source": [
    "- We can use `.melt()` in a similar fashion to tidy `table4b`, which contains the value of the variable `population`:"
   ]
  },
  {
   "cell_type": "code",
   "execution_count": null,
   "metadata": {},
   "outputs": [],
   "source": []
  },
  {
   "cell_type": "markdown",
   "metadata": {},
   "source": [
    "- We'll learn how to merge these `melt`ed DataFrames into a single DataFrame in a future lesson"
   ]
  },
  {
   "cell_type": "markdown",
   "metadata": {},
   "source": [
    "<hr style=\"border-top: 2px solid gray; margin-top: 1px; margin-bottom: 1px\"></hr>"
   ]
  },
  {
   "cell_type": "markdown",
   "metadata": {},
   "source": [
    "## Pivoting from long to wide form"
   ]
  },
  {
   "cell_type": "markdown",
   "metadata": {},
   "source": [
    "- Another common problem is a dataset with each observation scattered across multiple rows\n",
    "\n",
    "\n",
    "- For example, consider `table2`: each observation corresponds to a `country`-`year` pair, but each observation is spread across 2 rows"
   ]
  },
  {
   "cell_type": "code",
   "execution_count": null,
   "metadata": {},
   "outputs": [],
   "source": [
    "table2"
   ]
  },
  {
   "cell_type": "markdown",
   "metadata": {},
   "source": [
    "- To tidy this up, we can use the `.pivot_table()` method"
   ]
  },
  {
   "cell_type": "markdown",
   "metadata": {},
   "source": [
    "- We need 3 parameters:\n",
    "    1. `index`: the variables that identify a single observation\n",
    "    2. `columns`: the column to take variable names from\n",
    "    3. `values`: the column to take values from"
   ]
  },
  {
   "cell_type": "markdown",
   "metadata": {},
   "source": [
    "- Visually:\n",
    "\n",
    "<img src='img/pivot_table.jpg' width=800 />\n",
    "\n",
    "\n",
    "- For example, we can pivot the `type` and `count` columns of `table2` like this:"
   ]
  },
  {
   "cell_type": "code",
   "execution_count": null,
   "metadata": {},
   "outputs": [],
   "source": []
  },
  {
   "cell_type": "markdown",
   "metadata": {},
   "source": [
    "- `.reset_index()` converts the existing index into ordinary columns, and resets the index of the DataFrame to the default one (consecutive integers)\n",
    "\n",
    "\n",
    "- `.rename_axis(columns=None)` removes the name of the column axis generated by `.pivot_table()`\n",
    "\n",
    "\n",
    "- These steps are often desirable when performing additional wrangling or analysis steps"
   ]
  },
  {
   "cell_type": "markdown",
   "metadata": {},
   "source": [
    "<hr style=\"border-top: 2px solid gray; margin-top: 1px; margin-bottom: 1px\"></hr>"
   ]
  },
  {
   "cell_type": "markdown",
   "metadata": {},
   "source": [
    "## Separating"
   ]
  },
  {
   "cell_type": "markdown",
   "metadata": {},
   "source": [
    "- Let's take a look at `table3`:"
   ]
  },
  {
   "cell_type": "code",
   "execution_count": null,
   "metadata": {},
   "outputs": [],
   "source": [
    "table3"
   ]
  },
  {
   "cell_type": "markdown",
   "metadata": {},
   "source": [
    "- To tidy this data, we need to split the contents of `rate` into two columns, `cases` and `population`"
   ]
  },
  {
   "cell_type": "markdown",
   "metadata": {},
   "source": [
    "- We can accomplish this with the `.str.split()` Series method, with the following keyword arguments:\n",
    "    - `pat=...` specifies a string to use as a separator\n",
    "        - If `pat` is not specified, the method will split on whitespace\n",
    "    - `expand=True` tells the method to output split strings into multiple columns/Series in a DataFrame"
   ]
  },
  {
   "cell_type": "markdown",
   "metadata": {},
   "source": [
    "- So, we can split the contents of `rate` in `table3` like this:"
   ]
  },
  {
   "cell_type": "code",
   "execution_count": null,
   "metadata": {},
   "outputs": [],
   "source": []
  },
  {
   "cell_type": "markdown",
   "metadata": {},
   "source": [
    "- Note that after splitting `rate`, we still have strings instead of numeric values as output:"
   ]
  },
  {
   "cell_type": "code",
   "execution_count": null,
   "metadata": {},
   "outputs": [],
   "source": [
    "table3_cases_pop.info()"
   ]
  },
  {
   "cell_type": "markdown",
   "metadata": {},
   "source": [
    "- We can add the split contents of `rate` to `table3`, convert them to integers, and drop `rate` from the table, like this:"
   ]
  },
  {
   "cell_type": "code",
   "execution_count": null,
   "metadata": {},
   "outputs": [],
   "source": []
  },
  {
   "cell_type": "markdown",
   "metadata": {},
   "source": [
    "- If the data you want to separate doesn't contain a separator character, you can use Python slicing notation with `.str` to take substrings of the data\n",
    "\n",
    "\n",
    "- For example, we can split `year` into `century` and `year` like this:"
   ]
  },
  {
   "cell_type": "code",
   "execution_count": null,
   "metadata": {},
   "outputs": [],
   "source": []
  },
  {
   "cell_type": "markdown",
   "metadata": {},
   "source": [
    "<hr style=\"border-top: 2px solid gray; margin-top: 1px; margin-bottom: 1px\"></hr>"
   ]
  },
  {
   "cell_type": "markdown",
   "metadata": {},
   "source": [
    "## Uniting"
   ]
  },
  {
   "cell_type": "markdown",
   "metadata": {},
   "source": [
    "- The `.str.cat()` Series method is used to concatenate strings\n",
    "    - `sep=...` specifies the separator to use between the strings \n",
    "        - By default, the separator is the empty string `''`"
   ]
  },
  {
   "cell_type": "markdown",
   "metadata": {},
   "source": [
    "- For example, we can reverse the split we performed above and join `century` and `year` back together, like this:"
   ]
  },
  {
   "cell_type": "code",
   "execution_count": null,
   "metadata": {},
   "outputs": [],
   "source": []
  },
  {
   "cell_type": "markdown",
   "metadata": {},
   "source": [
    "<hr style=\"border-top: 2px solid gray; margin-top: 1px; margin-bottom: 1px\"></hr>"
   ]
  },
  {
   "cell_type": "markdown",
   "metadata": {},
   "source": [
    "## Problems"
   ]
  },
  {
   "cell_type": "markdown",
   "metadata": {},
   "source": [
    "### Problem 0"
   ]
  },
  {
   "cell_type": "markdown",
   "metadata": {},
   "source": [
    "In the same folder as this notebook, there is a CSV file `data/who.csv`, which contains a subset of data from the World Health Organization Global Tuberculosis Report.\n",
    "\n",
    "The problems below will walk you through tidying this data.\n",
    "\n",
    "First, read the CSV file into a DataFrame called `who`. Use `.head()` and `.info()` to get a sense of the data."
   ]
  },
  {
   "cell_type": "code",
   "execution_count": null,
   "metadata": {},
   "outputs": [],
   "source": []
  },
  {
   "cell_type": "markdown",
   "metadata": {},
   "source": [
    "### Problem 1"
   ]
  },
  {
   "cell_type": "markdown",
   "metadata": {},
   "source": [
    "The columns `country`, `iso2`, and `iso3` redundantly specify the country. Verify this by grouping the data by `country` and counting the number of unique values of `iso2` and `iso3` for each group. *Hint.* Use the `nunique` reduction/aggregation method."
   ]
  },
  {
   "cell_type": "code",
   "execution_count": null,
   "metadata": {},
   "outputs": [],
   "source": []
  },
  {
   "cell_type": "markdown",
   "metadata": {},
   "source": [
    "### Problem 2"
   ]
  },
  {
   "cell_type": "markdown",
   "metadata": {},
   "source": [
    "Now that you've established that `iso2` and `iso3` are not needed, create a DataFrame `who1` without those redundant columns."
   ]
  },
  {
   "cell_type": "code",
   "execution_count": null,
   "metadata": {},
   "outputs": [],
   "source": []
  },
  {
   "cell_type": "markdown",
   "metadata": {},
   "source": [
    "### Problem 3"
   ]
  },
  {
   "cell_type": "markdown",
   "metadata": {},
   "source": [
    "The columns from `new_sp_m014` to `newrel_f65` specify the number of cases in each country-year for different situations.\n",
    "\n",
    "Pivot the columns in `who1` from `new_sp_m014` to `newrel_f65` into a new variable called `key` (a generic name for now). Drop all rows in the resulting DataFrame with NA values. Put the result in a new DataFrame called `who2`."
   ]
  },
  {
   "cell_type": "code",
   "execution_count": null,
   "metadata": {},
   "outputs": [],
   "source": []
  },
  {
   "cell_type": "markdown",
   "metadata": {},
   "source": [
    "### Problem 4"
   ]
  },
  {
   "cell_type": "markdown",
   "metadata": {},
   "source": [
    "Next, let's parse the values in the `key` column of `who2`:"
   ]
  },
  {
   "cell_type": "markdown",
   "metadata": {},
   "source": [
    "- The first 3 letters denote whether the observation represents new or old cases of TB\n",
    "    - Note that this dataset contains only new cases"
   ]
  },
  {
   "cell_type": "markdown",
   "metadata": {},
   "source": [
    "- The next 2-3 letters describe the type of TB:\n",
    "    - `rel` = cases of relapse\n",
    "    - `ep` = cases of extrapulmonary TB\n",
    "    - `sn` = cases of pulmonary TB that could not be diagnosed by a pulmonary smear (smear negative)\n",
    "    - `sp` = cases of pulmonary TB that could be diagnosed by a pulmonary smear (smear positive)"
   ]
  },
  {
   "cell_type": "markdown",
   "metadata": {},
   "source": [
    "- The 6th letter gives the sex of TB patients: `m` for male, `f` for female    "
   ]
  },
  {
   "cell_type": "markdown",
   "metadata": {},
   "source": [
    "- The remaining number gives the age group:\n",
    "    - `014` = 0-14 years old\n",
    "    - `1524` = 15-24 years old\n",
    "    - `2534` = 25-34 years old\n",
    "    - `3544` = 35-44 years old\n",
    "    - `4554` = 45-54 years old\n",
    "    - `5564` = 55-64 years old\n",
    "    - `65` = 65 or older"
   ]
  },
  {
   "cell_type": "markdown",
   "metadata": {},
   "source": [
    "Note that the `key` values are slightly inconsistent: most use `_` to separate the first 3 letters from the type of TB, except those that have `newrel` instead of `new_rel`.\n",
    "\n",
    "Create a new DataFrame called `who3`, that replaces the values of `newrel` with `new_rel` in the `key` column of `who2`. \n",
    "\n",
    "*Hint.* Use the `.str.replace()` method. [Here's the documentation.](https://pandas.pydata.org/pandas-docs/stable/reference/api/pandas.Series.str.replace.html)"
   ]
  },
  {
   "cell_type": "code",
   "execution_count": null,
   "metadata": {},
   "outputs": [],
   "source": []
  },
  {
   "cell_type": "markdown",
   "metadata": {},
   "source": [
    "### Problem 5"
   ]
  },
  {
   "cell_type": "markdown",
   "metadata": {},
   "source": [
    "Now that the values in `key` are consistently separated by `_`, split `key` into three columns: `new`, `type`, `sexage`. Drop the `key` column, and put the results into a DataFrame called `who4`."
   ]
  },
  {
   "cell_type": "code",
   "execution_count": null,
   "metadata": {},
   "outputs": [],
   "source": []
  },
  {
   "cell_type": "markdown",
   "metadata": {},
   "source": [
    "### Problem 6"
   ]
  },
  {
   "cell_type": "markdown",
   "metadata": {},
   "source": [
    "Split the column `sexage` into 2 columns: `sex` and `age`. Note that the first character of `sexage` is always either `m` or `f`. Drop the `sexage` column, and put the results into a DataFrame called `who5`."
   ]
  },
  {
   "cell_type": "code",
   "execution_count": null,
   "metadata": {},
   "outputs": [],
   "source": []
  },
  {
   "cell_type": "markdown",
   "metadata": {},
   "source": [
    "### Problem 7 "
   ]
  },
  {
   "cell_type": "markdown",
   "metadata": {},
   "source": [
    "Now the dataset is tidy! Put together your code from Problems 2-6 into a single \"tidyfying\" method chain. Merge method calls where appropriate."
   ]
  },
  {
   "cell_type": "code",
   "execution_count": null,
   "metadata": {},
   "outputs": [],
   "source": []
  },
  {
   "cell_type": "markdown",
   "metadata": {},
   "source": [
    "<hr style=\"border-top: 2px solid gray; margin-top: 1px; margin-bottom: 1px\"></hr>"
   ]
  },
  {
   "cell_type": "markdown",
   "metadata": {},
   "source": [
    "## Notes and sources"
   ]
  },
  {
   "cell_type": "markdown",
   "metadata": {},
   "source": [
    "- From the [Pandas User Guide](https://pandas.pydata.org/docs/user_guide/index.html):\n",
    "    - [Reshaping and pivot tables](https://pandas.pydata.org/pandas-docs/stable/user_guide/reshaping.html)"
   ]
  },
  {
   "cell_type": "markdown",
   "metadata": {},
   "source": [
    "- Lesson and problems inspired by Chapter 12 of [R for Data Science](https://r4ds.had.co.nz/)    "
   ]
  }
 ],
 "metadata": {
  "kernelspec": {
   "display_name": "Python 3 (ipykernel)",
   "language": "python",
   "name": "python3"
  },
  "language_info": {
   "codemirror_mode": {
    "name": "ipython",
    "version": 3
   },
   "file_extension": ".py",
   "mimetype": "text/x-python",
   "name": "python",
   "nbconvert_exporter": "python",
   "pygments_lexer": "ipython3",
   "version": "3.11.3"
  }
 },
 "nbformat": 4,
 "nbformat_minor": 4
}
